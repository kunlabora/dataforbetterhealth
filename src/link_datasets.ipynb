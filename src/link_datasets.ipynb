{
 "cells": [
  {
   "cell_type": "code",
   "execution_count": null,
   "metadata": {},
   "outputs": [],
   "source": [
    "import pandas as pd"
   ]
  },
  {
   "cell_type": "markdown",
   "metadata": {},
   "source": [
    "# Load core dataset"
   ]
  },
  {
   "cell_type": "code",
   "execution_count": null,
   "metadata": {},
   "outputs": [],
   "source": [
    "%%time\n",
    "\n",
    "df_core_raw = pd.read_csv(\n",
    "    \"../data/documenten_ph/DB_V2.TXT\",\n",
    "    encoding=\"latin_1\",\n",
    "#     nrows=1000,\n",
    "    sep=\"\\t\"\n",
    ")"
   ]
  },
  {
   "cell_type": "code",
   "execution_count": null,
   "metadata": {},
   "outputs": [],
   "source": [
    "df_core = df_core_raw[\n",
    "    (df_core_raw.drug_code != \"#######\")\n",
    "    & (df_core_raw.Province == \"Brabant Flamand\") # arbitrair regio\n",
    "    & (df_core_raw.hosp_serv_id == 220) # arbitrair 1 departement\n",
    "]\n",
    "df_core[\"drug_code\"] = df_core.drug_code.astype(\"int64\")"
   ]
  },
  {
   "cell_type": "markdown",
   "metadata": {},
   "source": [
    "# Load pharma dataset"
   ]
  },
  {
   "cell_type": "code",
   "execution_count": null,
   "metadata": {},
   "outputs": [],
   "source": [
    "df_pharma_ref_raw = pd.read_csv(\n",
    "    \"../data/documenten_ph/PHARMA_REF.csv\",\n",
    "    encoding=\"latin_1\",\n",
    "    sep=\";\"\n",
    ")"
   ]
  },
  {
   "cell_type": "markdown",
   "metadata": {},
   "source": [
    "# Join datasets\n",
    "\n",
    "Number of common drug_code's:"
   ]
  },
  {
   "cell_type": "code",
   "execution_count": null,
   "metadata": {},
   "outputs": [],
   "source": [
    "len(set(df_pharma_ref_raw.drug_code.unique()) & set(df_core.drug_code.unique()))"
   ]
  },
  {
   "cell_type": "code",
   "execution_count": null,
   "metadata": {},
   "outputs": [],
   "source": [
    "df_core_pharma = df_core.join(\n",
    "    df_pharma_ref_raw,\n",
    "    how=\"inner\",\n",
    "    on=[\"drug_code\"],\n",
    "    lsuffix='_core',\n",
    "    rsuffix='_pharma'\n",
    ")"
   ]
  },
  {
   "cell_type": "code",
   "execution_count": null,
   "metadata": {},
   "outputs": [],
   "source": [
    "df_core_pharma.code_atc_1.value_counts()"
   ]
  },
  {
   "cell_type": "code",
   "execution_count": null,
   "metadata": {},
   "outputs": [],
   "source": [
    "df_atc_raw = pd.read_csv(\n",
    "    \"../data/emd/ATCDPP-r1808.csv\",\n",
    "    sep=\";\"\n",
    ")\n",
    "\n",
    "df_atc = df_atc_raw.rename({\"atc\": \"code_atc\"}, axis=1)"
   ]
  },
  {
   "cell_type": "code",
   "execution_count": null,
   "metadata": {},
   "outputs": [],
   "source": [
    "df_core_pharma[\"code_atc\"] = df_core_pharma[\"code_atc\"].astype(str)\n",
    "df_atc[\"code_atc\"] = df_atc[\"code_atc\"].astype(str)\n",
    "\n",
    "print(df_atc[\"code_atc\"].dtype)\n",
    "print(df_core_pharma[\"code_atc\"].dtype)"
   ]
  },
  {
   "cell_type": "code",
   "execution_count": null,
   "metadata": {},
   "outputs": [],
   "source": [
    "pd.merge(\n",
    "    df_core_pharma,\n",
    "    df_atc,\n",
    "    on=[\"code_atc\"]\n",
    ")"
   ]
  },
  {
   "cell_type": "code",
   "execution_count": null,
   "metadata": {},
   "outputs": [],
   "source": [
    "df_pharma_ref_raw.drug_name_aggregated.value_counts()"
   ]
  },
  {
   "cell_type": "code",
   "execution_count": null,
   "metadata": {},
   "outputs": [],
   "source": []
  }
 ],
 "metadata": {
  "kernelspec": {
   "display_name": "Python 3",
   "language": "python",
   "name": "python3"
  },
  "language_info": {
   "codemirror_mode": {
    "name": "ipython",
    "version": 3
   },
   "file_extension": ".py",
   "mimetype": "text/x-python",
   "name": "python",
   "nbconvert_exporter": "python",
   "pygments_lexer": "ipython3",
   "version": "3.7.2"
  }
 },
 "nbformat": 4,
 "nbformat_minor": 2
}
