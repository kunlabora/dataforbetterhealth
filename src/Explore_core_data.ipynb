{
 "cells": [
  {
   "cell_type": "code",
   "execution_count": null,
   "metadata": {},
   "outputs": [],
   "source": [
    "import pandas as pd\n",
    "import matplotlib.pyplot as plt\n",
    "\n",
    "%matplotlib inline"
   ]
  },
  {
   "cell_type": "markdown",
   "metadata": {},
   "source": [
    "# Load DB_V2.TXT"
   ]
  },
  {
   "cell_type": "code",
   "execution_count": null,
   "metadata": {},
   "outputs": [],
   "source": [
    "pd.read_csv(\n",
    "    \"../data/documenten_ph/DB_V2.TXT\",\n",
    "    encoding=\"latin_1\",\n",
    "    sep=\"\\t\",\n",
    "    nrows=5,\n",
    ").head()"
   ]
  },
  {
   "cell_type": "code",
   "execution_count": null,
   "metadata": {},
   "outputs": [],
   "source": [
    "%%time\n",
    "\n",
    "df_core = pd.read_csv(\n",
    "    \"../data/documenten_ph/DB_V2.TXT\",\n",
    "    usecols=[\"Type\", \"hosp_serv_id\", \"drug_code\", \"realization_date\", \"quantity\"],\n",
    "    encoding=\"latin_1\",\n",
    "    sep=\"\\t\",\n",
    ")\n",
    "df_core = df_core[\n",
    "    (df_core.Type == \"Général\") # focus op niet psychiatrische ziekenhuizen\n",
    "    & (df_core.drug_code != 0) # invalide drug code\n",
    "    & (df_core.realization_date % 10 < 5) # uitzondering niet te herleiden tot 1 van 4 quartalen\n",
    "    & (df_core.realization_date // 10 > 2002)\n",
    "    & (df_core.drug_code != \"#######\")\n",
    "]\n",
    "df_core[\"drug_code\"] = df_core.drug_code.astype(\"int64\")\n",
    "df_core[\"realization_date_linear\"] = df_core.realization_date // 10 + df_core.realization_date % 10 / 4\n",
    "df_core[\"realization_date_year\"] = df_core.realization_date // 10\n",
    "df_core[\"realization_date_5_year\"] = (df_core.realization_date // 10 - 3) // 5"
   ]
  },
  {
   "cell_type": "markdown",
   "metadata": {},
   "source": [
    "# Load pharma ref"
   ]
  },
  {
   "cell_type": "code",
   "execution_count": null,
   "metadata": {},
   "outputs": [],
   "source": [
    "pd.read_csv(\n",
    "    \"../data/documenten_ph/PHARMA_REF.csv\",\n",
    "    nrows=5,\n",
    "    encoding=\"latin_1\",\n",
    "    sep=\";\"\n",
    ").head(5)"
   ]
  },
  {
   "cell_type": "code",
   "execution_count": null,
   "metadata": {},
   "outputs": [],
   "source": [
    "df_pharma_ref_raw = pd.read_csv(\n",
    "    \"../data/documenten_ph/PHARMA_REF.csv\",\n",
    "    usecols=[\"drug_code\", \"drug_name_aggregated\", \"code_atc\", \"code_atc_1\"],\n",
    "    encoding=\"latin_1\",\n",
    "    sep=\";\"\n",
    ")"
   ]
  },
  {
   "cell_type": "code",
   "execution_count": null,
   "metadata": {},
   "outputs": [],
   "source": [
    "df_core = df_core.join(\n",
    "    df_pharma_ref_raw,\n",
    "    how=\"left\",\n",
    "    on=[\"drug_code\"],\n",
    "    lsuffix='',\n",
    "    rsuffix='_pharma'\n",
    ")"
   ]
  },
  {
   "cell_type": "markdown",
   "metadata": {},
   "source": [
    "## Select the 10 most common drugs"
   ]
  },
  {
   "cell_type": "code",
   "execution_count": null,
   "metadata": {},
   "outputs": [],
   "source": [
    "CLASS = \"drug_name_aggregated\""
   ]
  },
  {
   "cell_type": "code",
   "execution_count": null,
   "metadata": {},
   "outputs": [],
   "source": [
    "df_core = df_core[df_core.drug_name_aggregated != \"FRAXIPARINE\"]"
   ]
  },
  {
   "cell_type": "code",
   "execution_count": null,
   "metadata": {},
   "outputs": [],
   "source": [
    "drug_quantities = df_core.groupby([CLASS]).agg({\"quantity\": \"sum\"})\n",
    "\n",
    "df_common = df_core[df_core[CLASS].isin(\n",
    "    drug_quantities.sort_values(by=\"quantity\", ascending=False).head(10).index\n",
    ")]"
   ]
  },
  {
   "cell_type": "code",
   "execution_count": null,
   "metadata": {},
   "outputs": [],
   "source": [
    "def plot(frequency):\n",
    "    df_evolution = df_common.groupby(\n",
    "        [frequency, CLASS]\n",
    "    ).agg(\n",
    "        {\"quantity\": \"sum\"}\n",
    "    )\n",
    "\n",
    "    df_evolution.quantity.unstack().plot(marker=\"o\", ax=ax)"
   ]
  },
  {
   "cell_type": "code",
   "execution_count": null,
   "metadata": {},
   "outputs": [],
   "source": [
    "plt.figure(1, figsize=(16, 16))\n",
    "\n",
    "ax = plt.subplot(\"311\")\n",
    "plot(\"realization_date_linear\")\n",
    "\n",
    "ax = plt.subplot(\"312\")\n",
    "plot(\"realization_date_year\")\n",
    "\n",
    "ax = plt.subplot(\"313\")\n",
    "plot(\"realization_date_5_year\")"
   ]
  },
  {
   "cell_type": "code",
   "execution_count": null,
   "metadata": {},
   "outputs": [],
   "source": []
  }
 ],
 "metadata": {
  "kernelspec": {
   "display_name": "Python 3",
   "language": "python",
   "name": "python3"
  },
  "language_info": {
   "codemirror_mode": {
    "name": "ipython",
    "version": 3
   },
   "file_extension": ".py",
   "mimetype": "text/x-python",
   "name": "python",
   "nbconvert_exporter": "python",
   "pygments_lexer": "ipython3",
   "version": "3.7.2"
  }
 },
 "nbformat": 4,
 "nbformat_minor": 2
}
