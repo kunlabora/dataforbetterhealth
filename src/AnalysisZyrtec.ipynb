{
 "cells": [
  {
   "cell_type": "code",
   "execution_count": null,
   "metadata": {},
   "outputs": [],
   "source": [
    "import pandas as pd\n",
    "\n",
    "%matplotlib inline"
   ]
  },
  {
   "cell_type": "markdown",
   "metadata": {},
   "source": [
    "# Pharma ref"
   ]
  },
  {
   "cell_type": "code",
   "execution_count": null,
   "metadata": {},
   "outputs": [],
   "source": [
    "df_pharma = pd.read_csv(\n",
    "    \"../data/documenten_ph/PHARMA_REF.csv\",\n",
    "    usecols=[\n",
    "        \"drug_code\", \n",
    "        \"drug_name_aggregated\",\n",
    "        \"nom_produit_pharma\", \n",
    "        \"conditionnement\", \n",
    "        \"nom_firme_pharma\", \n",
    "        \"statut_produit_pharma\",\n",
    "        \"code_atc\",\n",
    "        \"code_atc_5\",\n",
    "        \"code_atc_3\",\n",
    "        \"DDD\",\n",
    "    ],\n",
    "    sep=\";\",\n",
    ")"
   ]
  },
  {
   "cell_type": "code",
   "execution_count": null,
   "metadata": {},
   "outputs": [],
   "source": [
    "df_selection = df_pharma[\n",
    "    (df_pharma.code_atc == \"R06AE07\")\n",
    "]\n",
    "df_selection.DDD = pd.to_numeric(df_selection.DDD.str.extract(r'(\\d*),0*')[0])"
   ]
  },
  {
   "cell_type": "code",
   "execution_count": null,
   "metadata": {},
   "outputs": [],
   "source": [
    "df_selection.head()"
   ]
  },
  {
   "cell_type": "markdown",
   "metadata": {},
   "source": [
    "# Doc ph"
   ]
  },
  {
   "cell_type": "code",
   "execution_count": null,
   "metadata": {},
   "outputs": [],
   "source": [
    "df_doc_ph = pd.read_csv(\n",
    "    \"../data/documenten_ph/DB_V2.TXT\",\n",
    "    usecols=[\"drug_code\", \"realization_date\", \"quantity\"],\n",
    "    encoding=\"latin_1\",\n",
    "    sep=\"\\t\",\n",
    ")"
   ]
  },
  {
   "cell_type": "code",
   "execution_count": null,
   "metadata": {},
   "outputs": [],
   "source": [
    "df_doc_ph = df_doc_ph[\n",
    "    (df_doc_ph.drug_code != \"#######\")\n",
    "    & (df_doc_ph.realization_date % 10 < 5)\n",
    "]\n",
    "\n",
    "df_doc_ph.drug_code = df_doc_ph.drug_code.astype(\"int64\")\n",
    "\n",
    "df_doc_ph.realization_date = df_doc_ph.realization_date // 10 + df_doc_ph.realization_date % 10 / 4"
   ]
  },
  {
   "cell_type": "code",
   "execution_count": null,
   "metadata": {},
   "outputs": [],
   "source": [
    "df_joined = pd.merge(df_doc_ph, df_selection, on=\"drug_code\")"
   ]
  },
  {
   "cell_type": "code",
   "execution_count": null,
   "metadata": {},
   "outputs": [],
   "source": [
    "df_joined[\"doses\"] = df_joined.quantity * df_joined.DDD"
   ]
  },
  {
   "cell_type": "code",
   "execution_count": null,
   "metadata": {},
   "outputs": [],
   "source": [
    "df_doses = df_joined.groupby(\n",
    "    [\"realization_date\", \"nom_produit_pharma\"]\n",
    ").agg(\n",
    "    {\"doses\": \"sum\"}\n",
    ")\n",
    "\n",
    "df_doses.doses.unstack().plot(marker=\"o\", figsize=(16, 9))"
   ]
  },
  {
   "cell_type": "code",
   "execution_count": null,
   "metadata": {},
   "outputs": [],
   "source": []
  }
 ],
 "metadata": {
  "kernelspec": {
   "display_name": "Python 3",
   "language": "python",
   "name": "python3"
  },
  "language_info": {
   "codemirror_mode": {
    "name": "ipython",
    "version": 3
   },
   "file_extension": ".py",
   "mimetype": "text/x-python",
   "name": "python",
   "nbconvert_exporter": "python",
   "pygments_lexer": "ipython3",
   "version": "3.7.2"
  }
 },
 "nbformat": 4,
 "nbformat_minor": 2
}
