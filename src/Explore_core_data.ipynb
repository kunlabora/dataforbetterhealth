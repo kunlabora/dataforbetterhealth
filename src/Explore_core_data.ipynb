{
 "cells": [
  {
   "cell_type": "code",
   "execution_count": null,
   "metadata": {},
   "outputs": [],
   "source": [
    "import pandas as pd\n",
    "import matplotlib.pyplot as plt\n",
    "\n",
    "%matplotlib inline"
   ]
  },
  {
   "cell_type": "code",
   "execution_count": null,
   "metadata": {},
   "outputs": [],
   "source": [
    "%%time\n",
    "\n",
    "df_raw = pd.read_csv(\n",
    "    \"../data/documenten_ph/DB_V2.TXT\",\n",
    "    encoding=\"latin_1\",\n",
    "#     nrows=1000,\n",
    "    sep=\"\\t\"\n",
    ")"
   ]
  },
  {
   "cell_type": "code",
   "execution_count": null,
   "metadata": {},
   "outputs": [],
   "source": [
    "df = df_raw[\n",
    "    (df_raw.Type == \"Général\") # focus op niet psychiatrische ziekenhuizen\n",
    "#     & (df_raw.Province == \"Brabant Flamand\") # arbitrair regio\n",
    "    & (df_raw.drug_code != 0) # invalide drug code\n",
    "#     & (df_raw.hosp_serv_id == 220) # arbitrair 1 departement\n",
    "    & (df_raw.realization_date % 10 < 5) # uitzondering niet te herleiden tot 1 van 4 quartalen\n",
    "    & (df_raw.realization_date // 10 > 2002)\n",
    "]"
   ]
  },
  {
   "cell_type": "code",
   "execution_count": null,
   "metadata": {},
   "outputs": [],
   "source": [
    "min(df_raw.quantity) # negative quantities occur"
   ]
  },
  {
   "cell_type": "code",
   "execution_count": null,
   "metadata": {},
   "outputs": [],
   "source": [
    "df[\"realization_date_linear\"] = df.realization_date // 10 + df.realization_date % 10 / 4\n",
    "df[\"realization_date_year\"] = df.realization_date // 10\n",
    "df[\"realization_date_5_year\"] = (df.realization_date // 10 - 3) // 5"
   ]
  },
  {
   "cell_type": "markdown",
   "metadata": {},
   "source": [
    "## Select the 10 most common drugs"
   ]
  },
  {
   "cell_type": "code",
   "execution_count": null,
   "metadata": {},
   "outputs": [],
   "source": [
    "drug_quantities = df.groupby([\"drug_code\"]).agg({\"quantity\": \"sum\"})\n",
    "\n",
    "df_common = df[df.drug_code.isin(\n",
    "    drug_quantities.sort_values(by=\"quantity\", ascending=False).head(10).index\n",
    ")]"
   ]
  },
  {
   "cell_type": "code",
   "execution_count": null,
   "metadata": {},
   "outputs": [],
   "source": [
    "plt.figure(1, figsize=(16, 16))\n",
    "\n",
    "ax = plt.subplot(\"311\")\n",
    "df_evolution = df_common.groupby(\n",
    "    [\"realization_date_linear\", \"drug_code\"]\n",
    ").agg(\n",
    "    {\"quantity\": \"sum\"}\n",
    ")\n",
    "\n",
    "df_evolution.quantity.unstack().plot(marker=\"o\", ax=ax)\n",
    "\n",
    "ax = plt.subplot(\"312\")\n",
    "df_evolution = df_common.groupby(\n",
    "    [\"realization_date_year\", \"drug_code\"]\n",
    ").agg(\n",
    "    {\"quantity\": \"sum\"}\n",
    ")\n",
    "\n",
    "df_evolution.quantity.unstack().plot(marker=\"o\", ax=ax)\n",
    "\n",
    "ax = plt.subplot(\"313\")\n",
    "df_evolution = df_common.groupby(\n",
    "    [\"realization_date_5_year\", \"drug_code\"]\n",
    ").agg(\n",
    "    {\"quantity\": \"sum\"}\n",
    ")\n",
    "\n",
    "df_evolution.quantity.unstack().plot(marker=\"o\", ax=ax)"
   ]
  },
  {
   "cell_type": "code",
   "execution_count": null,
   "metadata": {},
   "outputs": [],
   "source": []
  }
 ],
 "metadata": {
  "kernelspec": {
   "display_name": "Python 3",
   "language": "python",
   "name": "python3"
  },
  "language_info": {
   "codemirror_mode": {
    "name": "ipython",
    "version": 3
   },
   "file_extension": ".py",
   "mimetype": "text/x-python",
   "name": "python",
   "nbconvert_exporter": "python",
   "pygments_lexer": "ipython3",
   "version": "3.7.2"
  }
 },
 "nbformat": 4,
 "nbformat_minor": 2
}
