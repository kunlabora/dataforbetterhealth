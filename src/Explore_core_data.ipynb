{
 "cells": [
  {
   "cell_type": "code",
   "execution_count": null,
   "metadata": {},
   "outputs": [],
   "source": [
    "import pandas as pd\n",
    "import matplotlib.pyplot as plt\n",
    "\n",
    "%matplotlib inline"
   ]
  },
  {
   "cell_type": "code",
   "execution_count": null,
   "metadata": {},
   "outputs": [],
   "source": [
    "%%time\n",
    "\n",
    "df_raw = pd.read_csv(\n",
    "    \"../data/documenten_ph/DB_V2.TXT\",\n",
    "    encoding=\"latin_1\",\n",
    "#     nrows=1000,\n",
    "    sep=\"\\t\"\n",
    ")"
   ]
  },
  {
   "cell_type": "code",
   "execution_count": null,
   "metadata": {},
   "outputs": [],
   "source": [
    "df = df_raw[\n",
    "    (df_raw.Type == \"Général\") # focus op niet psychiatrische ziekenhuizen\n",
    "#     & (df_raw.Province == \"Brabant Flamand\") # arbitrair regio\n",
    "    & (df_raw.drug_code != 0) # invalide drug code\n",
    "#     & (df_raw.hosp_serv_id == 220) # arbitrair 1 departement\n",
    "    & (df_raw.realization_date % 10 < 5) # uitzondering niet te herleiden tot 1 van 4 quartalen\n",
    "    & (df_raw.realization_date // 10 > 2002)\n",
    "    & (df_raw.drug_code != \"#######\")\n",
    "]\n",
    "df[\"drug_code\"] = df.drug_code.astype(\"int64\")"
   ]
  },
  {
   "cell_type": "code",
   "execution_count": null,
   "metadata": {},
   "outputs": [],
   "source": [
    "min(df_raw.quantity) # negative quantities occur"
   ]
  },
  {
   "cell_type": "code",
   "execution_count": null,
   "metadata": {},
   "outputs": [],
   "source": [
    "df[\"realization_date_linear\"] = df.realization_date // 10 + df.realization_date % 10 / 4\n",
    "df[\"realization_date_year\"] = df.realization_date // 10\n",
    "df[\"realization_date_5_year\"] = (df.realization_date // 10 - 3) // 5"
   ]
  },
  {
   "cell_type": "markdown",
   "metadata": {},
   "source": [
    "# Load pharma ref"
   ]
  },
  {
   "cell_type": "code",
   "execution_count": null,
   "metadata": {},
   "outputs": [],
   "source": [
    "pd.read_csv(\n",
    "    \"../data/documenten_ph/PHARMA_REF.csv\",\n",
    "    nrows=5,\n",
    "    encoding=\"latin_1\",\n",
    "    sep=\";\"\n",
    ").head(5)"
   ]
  },
  {
   "cell_type": "code",
   "execution_count": null,
   "metadata": {},
   "outputs": [],
   "source": [
    "df_pharma_ref_raw = pd.read_csv(\n",
    "    \"../data/documenten_ph/PHARMA_REF.csv\",\n",
    "    usecols=[\"drug_code\", \"drug_name_aggregated\", \"code_atc\", \"code_atc_1\"],\n",
    "    encoding=\"latin_1\",\n",
    "    sep=\";\"\n",
    ")"
   ]
  },
  {
   "cell_type": "code",
   "execution_count": null,
   "metadata": {},
   "outputs": [],
   "source": [
    "df = df.join(\n",
    "    df_pharma_ref_raw,\n",
    "    how=\"left\",\n",
    "    on=[\"drug_code\"],\n",
    "    lsuffix='',\n",
    "    rsuffix='_pharma'\n",
    ")"
   ]
  },
  {
   "cell_type": "markdown",
   "metadata": {},
   "source": [
    "## Select the 10 most common drugs"
   ]
  },
  {
   "cell_type": "code",
   "execution_count": null,
   "metadata": {},
   "outputs": [],
   "source": [
    "CLASS = \"drug_name_aggregated\""
   ]
  },
  {
   "cell_type": "code",
   "execution_count": null,
   "metadata": {},
   "outputs": [],
   "source": [
    "df = df[df.drug_name_aggregated != \"FRAXIPARINE\"]"
   ]
  },
  {
   "cell_type": "code",
   "execution_count": null,
   "metadata": {},
   "outputs": [],
   "source": [
    "drug_quantities = df.groupby([CLASS]).agg({\"quantity\": \"sum\"})\n",
    "\n",
    "df_common = df[df[CLASS].isin(\n",
    "    drug_quantities.sort_values(by=\"quantity\", ascending=False).head(10).index\n",
    ")]"
   ]
  },
  {
   "cell_type": "code",
   "execution_count": null,
   "metadata": {},
   "outputs": [],
   "source": [
    "def plot(frequency):\n",
    "    df_evolution = df_common.groupby(\n",
    "        [frequency, CLASS]\n",
    "    ).agg(\n",
    "        {\"quantity\": \"sum\"}\n",
    "    )\n",
    "\n",
    "    df_evolution.quantity.unstack().plot(marker=\"o\", ax=ax)"
   ]
  },
  {
   "cell_type": "code",
   "execution_count": null,
   "metadata": {},
   "outputs": [],
   "source": [
    "plt.figure(1, figsize=(16, 16))\n",
    "\n",
    "ax = plt.subplot(\"311\")\n",
    "plot(\"realization_date_linear\")\n",
    "\n",
    "ax = plt.subplot(\"312\")\n",
    "plot(\"realization_date_year\")\n",
    "\n",
    "ax = plt.subplot(\"313\")\n",
    "plot(\"realization_date_5_year\")"
   ]
  },
  {
   "cell_type": "code",
   "execution_count": null,
   "metadata": {},
   "outputs": [],
   "source": []
  }
 ],
 "metadata": {
  "kernelspec": {
   "display_name": "Python 3",
   "language": "python",
   "name": "python3"
  },
  "language_info": {
   "codemirror_mode": {
    "name": "ipython",
    "version": 3
   },
   "file_extension": ".py",
   "mimetype": "text/x-python",
   "name": "python",
   "nbconvert_exporter": "python",
   "pygments_lexer": "ipython3",
   "version": "3.7.2"
  }
 },
 "nbformat": 4,
 "nbformat_minor": 2
}
