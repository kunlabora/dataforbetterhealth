{
 "cells": [
  {
   "cell_type": "code",
   "execution_count": null,
   "metadata": {},
   "outputs": [],
   "source": [
    "import pandas as pd\n",
    "import matplotlib.pyplot as plt\n",
    "\n",
    "pd.set_option(\"display.max_columns\", 100)\n",
    "%matplotlib inline"
   ]
  },
  {
   "cell_type": "markdown",
   "metadata": {},
   "source": [
    "# 1 Dataset: documenten_ph\n",
    "## 1.1 First data exploration\n",
    "### 1.1.1 Lets have a peek"
   ]
  },
  {
   "cell_type": "code",
   "execution_count": null,
   "metadata": {},
   "outputs": [],
   "source": [
    "pd.read_csv(\n",
    "    \"../data/documenten_ph/DB_V2.TXT\",\n",
    "    encoding=\"latin_1\",\n",
    "    sep=\"\\t\",\n",
    "    nrows=5,\n",
    ").head()"
   ]
  },
  {
   "cell_type": "markdown",
   "metadata": {},
   "source": [
    "### 1.1.2 Lets study the quantity of use over time\n",
    "For this I only need 3 columns:\n",
    "* drug_code: to know which drug we are talking about\n",
    "* realization_date: to know when it was used\n",
    "* quantity: to know how much of it was used"
   ]
  },
  {
   "cell_type": "code",
   "execution_count": null,
   "metadata": {},
   "outputs": [],
   "source": [
    "df_doc_ph = pd.read_csv(\n",
    "    \"../data/documenten_ph/DB_V2.TXT\",\n",
    "    usecols=[\"drug_code\", \"realization_date\", \"quantity\"],\n",
    "    encoding=\"latin_1\",\n",
    "    sep=\"\\t\",\n",
    ")"
   ]
  },
  {
   "cell_type": "markdown",
   "metadata": {},
   "source": [
    "### 1.1.3 Lets visualize this\n",
    "(We will sample 10 arbitrary drug_codes, otherwise the plot will crash)"
   ]
  },
  {
   "cell_type": "code",
   "execution_count": null,
   "metadata": {},
   "outputs": [],
   "source": [
    "df_doc_ph.groupby(\n",
    "    [\"realization_date\", \"drug_code\"]\n",
    ").agg(\n",
    "    {\"quantity\": \"sum\"}\n",
    ").unstack().sample(10, axis=1, random_state=345).plot(marker=\"o\", figsize=(16, 9))"
   ]
  },
  {
   "cell_type": "markdown",
   "metadata": {},
   "source": [
    "## 1.2 Can we improve the quality of realization_date\n",
    "### 1.2.1 Cleaning\n",
    "* there seem to be 5-th quarters, which are wierd cases: Lets get rid of them\n",
    "* the values are a concatenation (year + quarter): lets make it more smooth"
   ]
  },
  {
   "cell_type": "code",
   "execution_count": null,
   "metadata": {},
   "outputs": [],
   "source": [
    "df_doc_ph = df_doc_ph[\n",
    "    df_doc_ph.realization_date % 10 != 5\n",
    "]\n",
    "\n",
    "df_doc_ph[\"realization_date_smooth\"] = (\n",
    "    df_doc_ph.realization_date // 10 + df_doc_ph.realization_date % 10 / 4\n",
    ")"
   ]
  },
  {
   "cell_type": "markdown",
   "metadata": {},
   "source": [
    "### 1.2.2 Lets see how our plot has improved"
   ]
  },
  {
   "cell_type": "code",
   "execution_count": null,
   "metadata": {},
   "outputs": [],
   "source": [
    "df_doc_ph.groupby(\n",
    "    [\"realization_date_smooth\", \"drug_code\"]\n",
    ").agg(\n",
    "    {\"quantity\": \"sum\"}\n",
    ").unstack().sample(10, axis=1, random_state=345).plot(marker=\"o\", figsize=(16, 9))"
   ]
  },
  {
   "cell_type": "markdown",
   "metadata": {},
   "source": [
    "## 1.3 Can we select a meaningfull subgroup?\n",
    "We have a secondary data set which contains names of the concerned drugs:\n",
    "### 1.3.1 Lets have a peek at PHARMA_REF"
   ]
  },
  {
   "cell_type": "code",
   "execution_count": null,
   "metadata": {},
   "outputs": [],
   "source": [
    "pd.read_csv(\n",
    "    \"../data/documenten_ph/PHARMA_REF.csv\",\n",
    "    nrows=5,\n",
    "    sep=\";\",\n",
    ").head()"
   ]
  },
  {
   "cell_type": "markdown",
   "metadata": {},
   "source": [
    "### 1.3.2 Lets load the data from PHARMA_REF that might help us\n",
    "* drug_code: to join with the other dataset\n",
    "* nom_produit_pharma: to have a better recognizable name of the product\n",
    "* code_atc: such that we can focus on one group of drugs\n",
    "* DDD: such that we know how many doses this drug is made of"
   ]
  },
  {
   "cell_type": "code",
   "execution_count": null,
   "metadata": {},
   "outputs": [],
   "source": [
    "df_pharma = pd.read_csv(\n",
    "    \"../data/documenten_ph/PHARMA_REF.csv\",\n",
    "    usecols=[\n",
    "        \"drug_code\", \n",
    "        \"nom_produit_pharma\",\n",
    "        \"code_atc\",\n",
    "        \"DDD\",\n",
    "    ],\n",
    "    sep=\";\",\n",
    ")"
   ]
  },
  {
   "cell_type": "markdown",
   "metadata": {},
   "source": [
    "### 1.3.3 Lets join the two datasets\n",
    "* apparently some drug codes in doc_ph are #######\n",
    "* this also stopped pandas from loading the data as an int64"
   ]
  },
  {
   "cell_type": "code",
   "execution_count": null,
   "metadata": {},
   "outputs": [],
   "source": [
    "df_doc_ph = df_doc_ph[\n",
    "    df_doc_ph.drug_code != \"#######\"\n",
    "]\n",
    "\n",
    "df_doc_ph.drug_code = df_doc_ph.drug_code.astype(\"int64\")"
   ]
  },
  {
   "cell_type": "code",
   "execution_count": null,
   "metadata": {},
   "outputs": [],
   "source": [
    "df_joined = pd.merge(df_doc_ph, df_pharma, on=\"drug_code\")"
   ]
  },
  {
   "cell_type": "markdown",
   "metadata": {},
   "source": [
    "#### 1.3.4 Lets focus on Cetirizine an antihistaminica\n",
    "* 1) https://www.whocc.no/atc_ddd_index/\n",
    "* 2) search: Cetirizine\n",
    "* 3) get ATC code: R06AE07"
   ]
  },
  {
   "cell_type": "code",
   "execution_count": null,
   "metadata": {},
   "outputs": [],
   "source": [
    "df_R06AE07 = df_joined[df_joined.code_atc == \"R06AE07\"]"
   ]
  },
  {
   "cell_type": "markdown",
   "metadata": {},
   "source": [
    "### 1.3.5 Lets plot the quantities by product name"
   ]
  },
  {
   "cell_type": "code",
   "execution_count": null,
   "metadata": {},
   "outputs": [],
   "source": [
    "df_R06AE07.groupby(\n",
    "    [\"realization_date_smooth\", \"nom_produit_pharma\"]\n",
    ").agg(\n",
    "    {\"quantity\": \"sum\"}\n",
    ").unstack().plot(marker=\"o\", figsize=(16, 9))"
   ]
  },
  {
   "cell_type": "markdown",
   "metadata": {},
   "source": [
    "## 1.4 Whats about quantities vs doses?\n",
    "Well it turns out that quantities are the number of packages not of doses and DDD seems to be the number of doses in a package"
   ]
  },
  {
   "cell_type": "code",
   "execution_count": null,
   "metadata": {},
   "outputs": [],
   "source": [
    "df_R06AE07[\"doses\"] = (\n",
    "    pd.to_numeric(df_R06AE07.DDD.str.extract(r'(\\d*),0*')[0]) \n",
    "    * df_R06AE07.quantity\n",
    ")\n",
    "\n",
    "df_R06AE07.groupby(\n",
    "    [\"realization_date_smooth\", \"nom_produit_pharma\"]\n",
    ").agg(\n",
    "    {\"doses\": \"sum\"}\n",
    ").unstack().plot(marker=\"o\", figsize=(16, 9))"
   ]
  },
  {
   "cell_type": "code",
   "execution_count": null,
   "metadata": {},
   "outputs": [],
   "source": []
  }
 ],
 "metadata": {
  "kernelspec": {
   "display_name": "Python 3",
   "language": "python",
   "name": "python3"
  },
  "language_info": {
   "codemirror_mode": {
    "name": "ipython",
    "version": 3
   },
   "file_extension": ".py",
   "mimetype": "text/x-python",
   "name": "python",
   "nbconvert_exporter": "python",
   "pygments_lexer": "ipython3",
   "version": "3.7.2"
  }
 },
 "nbformat": 4,
 "nbformat_minor": 2
}
