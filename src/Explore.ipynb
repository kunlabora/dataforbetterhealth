{
 "cells": [
  {
   "cell_type": "code",
   "execution_count": null,
   "metadata": {},
   "outputs": [],
   "source": [
    "import pandas as pd\n",
    "import matplotlib.pyplot as plt\n",
    "\n",
    "%matplotlib inline"
   ]
  },
  {
   "cell_type": "code",
   "execution_count": null,
   "metadata": {},
   "outputs": [],
   "source": [
    "%%time\n",
    "\n",
    "df_raw = pd.read_csv(\n",
    "    \"../data/documenten_ph/DB_V2.TXT\",\n",
    "    encoding=\"latin_1\",\n",
    "#     nrows=1000,\n",
    "    sep=\"\\t\"\n",
    ")"
   ]
  },
  {
   "cell_type": "code",
   "execution_count": null,
   "metadata": {},
   "outputs": [],
   "source": [
    "df = df_raw[\n",
    "    (df_raw.Type == \"Général\") # focus op niet psychiatrische ziekenhuizen\n",
    "    & (df_raw.Province == \"Brabant Flamand\") # arbitrair regio\n",
    "    & (df_raw.drug_code != 0) # invalide drug code\n",
    "    & (df_raw.hosp_serv_id == 220) # arbitrair 1 departement\n",
    "    & (df_raw.realization_date % 10 < 5) # uitzondering niet te herleiden tot 1 van 4 quartalen\n",
    "]"
   ]
  },
  {
   "cell_type": "code",
   "execution_count": null,
   "metadata": {},
   "outputs": [],
   "source": [
    "min(df_raw.quantity) # negative quantities occur"
   ]
  },
  {
   "cell_type": "code",
   "execution_count": null,
   "metadata": {},
   "outputs": [],
   "source": [
    "df.drug_code.value_counts().hist(bins=100)"
   ]
  },
  {
   "cell_type": "code",
   "execution_count": null,
   "metadata": {},
   "outputs": [],
   "source": [
    "drug_quantities = df.groupby([\"drug_code\"]).agg({\"quantity\": \"sum\"})\n",
    "\n",
    "df_common = df[df.drug_code.isin(drug_quantities[drug_quantities.quantity > 1_000_000].index)]"
   ]
  },
  {
   "cell_type": "code",
   "execution_count": null,
   "metadata": {},
   "outputs": [],
   "source": [
    "df_common.groupby([\"realization_date\", \"drug_code\"]).agg({\"quantity\": \"sum\"}).quantity.unstack().plot()"
   ]
  },
  {
   "cell_type": "code",
   "execution_count": null,
   "metadata": {},
   "outputs": [],
   "source": [
    "drugs_total_counts = df.groupby([\"drug_code\"]).agg({\"quantity\": \"sum\"})\n",
    "\n",
    "drugs_total_counts = drugs_total_counts[drugs_total_counts.quantity > 2e7]\n",
    "\n",
    "drugs_total_counts"
   ]
  },
  {
   "cell_type": "code",
   "execution_count": null,
   "metadata": {},
   "outputs": [],
   "source": []
  },
  {
   "cell_type": "code",
   "execution_count": null,
   "metadata": {},
   "outputs": [],
   "source": []
  }
 ],
 "metadata": {
  "kernelspec": {
   "display_name": "Python 3",
   "language": "python",
   "name": "python3"
  },
  "language_info": {
   "codemirror_mode": {
    "name": "ipython",
    "version": 3
   },
   "file_extension": ".py",
   "mimetype": "text/x-python",
   "name": "python",
   "nbconvert_exporter": "python",
   "pygments_lexer": "ipython3",
   "version": "3.7.2"
  }
 },
 "nbformat": 4,
 "nbformat_minor": 2
}
